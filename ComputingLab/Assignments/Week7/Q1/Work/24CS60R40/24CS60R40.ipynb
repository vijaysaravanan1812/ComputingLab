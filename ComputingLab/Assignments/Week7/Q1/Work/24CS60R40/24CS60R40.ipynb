{
 "cells": [
  {
   "cell_type": "code",
   "execution_count": 128,
   "id": "6f8ea5c1-b530-46dc-9fe6-2b64c97c1145",
   "metadata": {},
   "outputs": [],
   "source": [
    "with open('data.txt') as f:\n",
    "    lines=f.readlines()\n",
    "\n",
    "A = []\n",
    "B = []\n",
    "C = []\n",
    "\n",
    "for line in lines:\n",
    "    Temp = line.split()\n",
    "    A.append(Temp[0])\n",
    "    B.append(Temp[1])\n",
    "    C.append(Temp[2])"
   ]
  },
  {
   "cell_type": "code",
   "execution_count": 129,
   "id": "03b2db42-18df-45b9-831f-8996878a52ba",
   "metadata": {},
   "outputs": [
    {
     "name": "stdout",
     "output_type": "stream",
     "text": [
      "10000\n",
      "10000\n",
      "10000\n"
     ]
    }
   ],
   "source": [
    "print(len(A))\n",
    "print(len(B))\n",
    "print(len(C))\n",
    "\n",
    "C = list(map(float, C))\n",
    "\n",
    "maximum = max(C)\n",
    "minimum = min(C)\n",
    "weights = []\n",
    "\n",
    "for c in C:\n",
    "    normalized_weight = (c - minimum) / (maximum - minimum)\n",
    "    weights.append(normalized_weight)"
   ]
  },
  {
   "cell_type": "code",
   "execution_count": 130,
   "id": "0f14e308-3607-4b3e-9b4f-b5d241b101c1",
   "metadata": {},
   "outputs": [],
   "source": [
    "import networkx as nx\n",
    "\n",
    "G = nx.Graph()\n",
    "\n",
    "for i in range(len(A)):\n",
    "    G.add_edge(A[i], B[i], weight=weights[i])"
   ]
  },
  {
   "cell_type": "code",
   "execution_count": 131,
   "id": "3590e8fe-f152-42bd-860a-c85bb87929a7",
   "metadata": {},
   "outputs": [
    {
     "name": "stdout",
     "output_type": "stream",
     "text": [
      "4\n"
     ]
    }
   ],
   "source": [
    "communities = list(nx.community.greedy_modularity_communities(G))\n",
    "print(len(communities))"
   ]
  },
  {
   "cell_type": "code",
   "execution_count": 132,
   "id": "6180f449-26fd-4052-ba82-0821fca68bb5",
   "metadata": {},
   "outputs": [
    {
     "name": "stdout",
     "output_type": "stream",
     "text": [
      "[frozenset({'130', '132', '429', '400', '117', '195', '297', '205', '13', '240', '319', '439', '416', '420', '402', '103', '283', '405', '145', '274', '263', '225', '257', '162', '398', '328', '51', '277', '364', '73', '142', '348', '456', '238', '447', '278', '94', '18', '298', '344', '39', '407', '287', '349', '421', '302', '58', '147', '468', '256', '275', '199', '325', '124', '229', '232', '296', '151', '96', '114', '193', '72', '118', '226', '387', '487', '17', '304', '345', '248', '415', '163', '474', '423', '221', '81', '444', '449', '450', '473', '89', '181', '3', '482', '101', '16', '131', '281', '197', '410', '388', '206', '365', '218', '207', '422', '164', '301', '382', '314', '442', '438', '209', '38', '253', '75', '280', '432', '97', '293', '419', '342', '424', '430', '353', '431', '460', '264', '187', '112', '347', '54', '30', '254', '493', '411', '346', '358', '128', '321', '334', '76', '12', '183', '143', '113', '437', '43', '341', '216', '172', '84', '64', '392', '169', '330', '376', '91', '311', '284', '322', '156', '61', '434', '244', '327', '168', '486', '59', '250', '159', '220', '268', '305', '288', '5', '380', '29', '180', '336', '366', '40', '496', '171', '356', '42', '65', '491', '246', '299', '396', '88', '445', '337', '152'}), frozenset({'243', '457', '140', '286', '107', '448', '176', '412', '492', '393', '459', '27', '24', '104', '242', '155', '453', '247', '188', '213', '464', '362', '495', '408', '236', '92', '255', '290', '174', '403', '300', '135', '137', '48', '401', '106', '443', '451', '56', '219', '338', '323', '90', '466', '391', '166', '500', '295', '35', '455', '276', '161', '373', '184', '14', '33', '80', '60', '480', '374', '93', '9', '369', '189', '368', '82', '472', '228', '467', '202', '329', '133', '471', '198', '217', '381', '303', '127', '119', '126', '357', '87', '306', '49', '122', '185', '154', '316', '354', '465', '22', '165', '343', '417', '191', '484', '102', '386', '136', '125', '158', '367', '215', '315', '352', '271', '203', '68', '252', '427', '200', '62', '99', '204', '192', '413', '222', '476', '148', '139', '129', '211', '289', '269', '470', '331', '418', '489', '10', '260', '153', '86', '63', '57', '292', '333', '308', '394', '50', '481', '406', '372', '95', '335', '385', '190', '98', '21', '258', '389', '239', '66', '55', '138', '241', '69', '212', '178', '359', '409', '488', '70', '463', '36', '210', '490', '266', '77', '324', '497', '223', '141', '458', '313', '377', '361', '259'}), frozenset({'53', '115', '414', '25', '179', '479', '201', '320', '231', '41', '390', '332', '34', '399', '462', '26', '428', '326', '194', '426', '47', '307', '79', '478', '134', '32', '350', '167', '157', '173', '46', '144', '150', '100', '52', '475', '28', '435', '108', '384', '149', '378', '499', '249', '262', '294', '309', '370', '404', '383', '355', '111', '182', '245', '196', '214', '498', '441', '8', '351', '37', '483', '272', '177', '436', '461', '485', '235', '146', '446', '45', '170', '31', '425', '23', '227', '375', '7', '234', '67', '237', '339', '19', '270', '71', '265', '363', '109', '317', '186', '160', '44', '285', '121', '11', '379', '20', '291', '208', '120', '340', '123', '469', '2', '371', '397', '116', '224', '15', '433', '251', '6', '273', '85'}), frozenset({'279', '110', '477', '105', '78', '395', '282', '360', '74', '230', '175', '494', '4', '440', '452', '83', '1', '310', '267', '312', '318', '261', '233', '454'})]\n"
     ]
    }
   ],
   "source": [
    "print(communities)"
   ]
  },
  {
   "cell_type": "code",
   "execution_count": 133,
   "id": "dd346db7-c69d-436f-8c37-155a8d0ac5f1",
   "metadata": {
    "scrolled": true
   },
   "outputs": [
    {
     "name": "stdout",
     "output_type": "stream",
     "text": [
      "Key Businesses in each Community:\n",
      "Community 1: [('388', 0.16304347826086957), ('65', 0.16304347826086957), ('301', 0.15217391304347827), ('398', 0.14130434782608695), ('128', 0.14130434782608695), ('162', 0.1358695652173913), ('342', 0.1358695652173913), ('187', 0.1358695652173913), ('437', 0.1358695652173913), ('180', 0.1358695652173913)]\n",
      "Community 2: [('313', 0.1875), ('102', 0.17613636363636365), ('300', 0.17045454545454547), ('243', 0.1590909090909091), ('448', 0.14772727272727273), ('391', 0.14772727272727273), ('389', 0.14772727272727273), ('126', 0.14204545454545456), ('154', 0.14204545454545456), ('258', 0.14204545454545456)]\n",
      "Community 3: [('446', 0.19469026548672566), ('350', 0.18584070796460178), ('44', 0.17699115044247787), ('273', 0.16814159292035397), ('123', 0.1592920353982301), ('224', 0.1592920353982301), ('28', 0.1592920353982301), ('262', 0.1592920353982301), ('34', 0.1504424778761062), ('196', 0.1504424778761062)]\n",
      "Community 4: [('440', 0.43478260869565216), ('83', 0.34782608695652173), ('110', 0.2608695652173913), ('78', 0.2608695652173913), ('360', 0.2608695652173913), ('175', 0.2608695652173913), ('395', 0.21739130434782608), ('282', 0.21739130434782608), ('230', 0.21739130434782608), ('494', 0.21739130434782608)]\n"
     ]
    }
   ],
   "source": [
    "import heapq\n",
    "\n",
    "EachCommunityTopBusinesses = {}\n",
    "for i, Person in enumerate(communities):\n",
    "    subgraph = G.subgraph(Person)\n",
    "    \n",
    "    centrality = nx.degree_centrality(subgraph)\n",
    "    \n",
    "    CentralityList = []\n",
    "\n",
    "    for node, CentralityValue in centrality.items():\n",
    "        CentralityList.append((node, CentralityValue))\n",
    "      \n",
    "    TopBusinesses = heapq.nlargest(10, CentralityList, key=lambda x: x[1])\n",
    "    EachCommunityTopBusinesses[i] = TopBusinesses\n",
    "\n",
    "\n",
    "print(\"Key Businesses in each Community:\")\n",
    "for CommunityNumber, Businesses in EachCommunityTopBusinesses.items():\n",
    "    print(f\"Community {CommunityNumber + 1}: {Businesses}\")\n"
   ]
  },
  {
   "cell_type": "code",
   "execution_count": 135,
   "id": "d837127a-535d-4614-88bb-7ad8e62c2344",
   "metadata": {},
   "outputs": [
    {
     "name": "stdout",
     "output_type": "stream",
     "text": [
      "Total anomaly transactions: 328\n",
      "Total transactions: 10000\n",
      "Percentage of anomaly transactions: 3.28%\n"
     ]
    }
   ],
   "source": [
    "AmountInFloat = list(map(float, C))\n",
    "maximum = max(AmountInFloat)\n",
    "minimum = min(AmountInFloat)\n",
    "\n",
    "\n",
    "Transactions = list(zip(A, B, C))\n",
    "anomalies = []\n",
    "\n",
    "for sender, receiver, amount in transactions:\n",
    "    is_anomalous = False\n",
    "    for CommunityNumber, Businesses in EachCommunityTopBusinesses.items():\n",
    "\n",
    "        CommunitySet = set()\n",
    "        for Person, _ in Businesses:\n",
    "            CommunitySet.add(Person)\n",
    "            \n",
    "        if (sender in CommunitySet and receiver not in CommunitySet ) or (receiver in CommunitySet and sender not in CommunitySet ):\n",
    "           \n",
    "            normalized_weight = (amount - minimum) / (maximum - minimum)\n",
    "            if normalized_weight > 0.81:\n",
    "                is_anomalous = True\n",
    "                break\n",
    "                \n",
    "    if is_anomalous:\n",
    "        anomalies.append((sender, receiver, amount))\n",
    "\n",
    "\n",
    "total_anomalies = len(anomalies)\n",
    "percentage_anomalies = (total_anomalies / len(transactions)) * 100\n",
    "\n",
    "print(f\"Total anomaly transactions: {total_anomalies}\")\n",
    "print(f\"Total transactions: {len(transactions)}\")\n",
    "print(f\"Percentage of anomaly transactions: {percentage_anomalies:.2f}%\")\n"
   ]
  },
  {
   "cell_type": "code",
   "execution_count": null,
   "id": "a331d28b-f2c1-4982-a788-2c2859d22551",
   "metadata": {},
   "outputs": [],
   "source": []
  },
  {
   "cell_type": "code",
   "execution_count": null,
   "id": "ad8e7441-4400-435a-b7a9-f214609a5b90",
   "metadata": {},
   "outputs": [],
   "source": []
  }
 ],
 "metadata": {
  "kernelspec": {
   "display_name": "Python 3 (ipykernel)",
   "language": "python",
   "name": "python3"
  },
  "language_info": {
   "codemirror_mode": {
    "name": "ipython",
    "version": 3
   },
   "file_extension": ".py",
   "mimetype": "text/x-python",
   "name": "python",
   "nbconvert_exporter": "python",
   "pygments_lexer": "ipython3",
   "version": "3.12.5"
  }
 },
 "nbformat": 4,
 "nbformat_minor": 5
}
